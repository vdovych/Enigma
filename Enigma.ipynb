{
 "cells": [
  {
   "cell_type": "code",
   "execution_count": 167,
   "metadata": {},
   "outputs": [],
   "source": [
    "class PlugBoard():\n",
    "    def generate_plugs():#wow, much random\n",
    "        return {0:1,2:3,4:5,6:7,17:21,13:24,10:19,11:14,18:22,8:20}\n",
    "    \n",
    "    def valid_plugs(self):\n",
    "        letters = []\n",
    "        counter_plug = 0\n",
    "        counter_self_plug = 0\n",
    "        for k, v in self.plugs.items():\n",
    "            if(k in letters):\n",
    "                return False, counter_plug\n",
    "            letters.append(k)\n",
    "            if(k==v):\n",
    "                counter_self_plug+=1\n",
    "                continue\n",
    "            else:\n",
    "                counter_plug+=1 \n",
    "            if(v in letters):\n",
    "                return False, counter_plug\n",
    "            letters.append(v)\n",
    "        \n",
    "        return counter_plug<=10, counter_plug\n",
    "    \n",
    "    def __init__(self, plugs, validate_plugs):\n",
    "        self.plugs = plugs\n",
    "        self.inv_plugs = {v: k for k, v in plugs.items()}\n",
    "        if(validate_plugs and not self.valid_plugs()[0]):\n",
    "            raise ValueError(\"Bad plugs\")\n",
    "            \n",
    "    def run(self,val):\n",
    "        if(val in self.plugs.keys()):\n",
    "            #print(\"Plugs: Turn {} into {}\".format(chr(val+65),chr(self.plugs[val]+65)))\n",
    "            return self.plugs[val]\n",
    "        if(val in self.inv_plugs.keys()):\n",
    "            #print(\"Plugs: Turn {} into {}\".format(chr(val+65),chr(self.inv_plugs[val]+65)))   \n",
    "            return self.inv_plugs[val]\n",
    "        return val\n",
    "    \n",
    "    def get_plugged_letters(self):#gets list of letters thet have plug plugged into them\n",
    "        return list(set(list(self.plugs.keys())+list(self.plugs.values())))"
   ]
  },
  {
   "cell_type": "code",
   "execution_count": 168,
   "metadata": {},
   "outputs": [],
   "source": [
    "class Reflector():\n",
    "    def __init__(self):\n",
    "        wiring = \"EJMZALYXVBWFCRQUONTSPIKHGD\"\n",
    "        self.wirinig = []\n",
    "        for idx,letter in enumerate(wiring):\n",
    "            self.wirinig.append(ord(letter)-65)\n",
    "            \n",
    "    def run(self, val):\n",
    "        #print(\"Reflector: Turn {} into {}\".format(chr(val+65),chr(self.wirinig[val]+65)))\n",
    "        return self.wirinig[val]"
   ]
  },
  {
   "cell_type": "code",
   "execution_count": 169,
   "metadata": {},
   "outputs": [],
   "source": [
    "class Rotor():\n",
    "    def __init__(self, typ):\n",
    "        self.position = 0\n",
    "        self.type = typ\n",
    "        if(self.type == 0):\n",
    "            wirinig = \"EKMFLGDQVZNTOWYHXUSPAIBRCJ\"\n",
    "        if(self.type == 1):\n",
    "            wirinig = \"AJDKSIRUXBLHWTMCQGZNPYFVOE\"\n",
    "        if(self.type == 2):\n",
    "            wirinig = \"BDFHJLCPRTXVZNYEIWGAKMUSQO\"\n",
    "        if(self.type == 3):\n",
    "            wirinig = \"ESOVPZJAYQUIRHXLNFTGKDCMWB\"\n",
    "        if(self.type == 4):\n",
    "            wirinig = \"VZBRGITYUPSDNHLXAWMJQOFECK\"\n",
    "        self.wirinig = []\n",
    "        for idx,letter in enumerate(wirinig):\n",
    "            self.wirinig.append(ord(letter)-65)\n",
    "            \n",
    "    def run(self, val, forward):\n",
    "        # Electricity passing through rotor\n",
    "        if(forward):\n",
    "            val = (val+self.position)%26\n",
    "            #print(\"Rotor: Turn {} into {}\".format(chr(val+65),chr(self.wirinig[val]+65)))\n",
    "            return self.wirinig[val]\n",
    "        else:\n",
    "            #print(\"Reverse: Turn {} into {}\".format(chr(val+65) ,chr((self.wirinig.index(val)-self.position)%26+65)))\n",
    "            val = (self.wirinig.index(val)-self.position)%26\n",
    "            return val\n",
    "        \n",
    "            "
   ]
  },
  {
   "cell_type": "code",
   "execution_count": 240,
   "metadata": {},
   "outputs": [],
   "source": [
    "class Enigma():\n",
    "    def __init__(self, rotor_type_1, rotor_type_2, rotor_type_3, plugs, validate_plugs):\n",
    "        self.rotor1 = Rotor(rotor_type_1)\n",
    "        self.rotor2 = Rotor(rotor_type_2)\n",
    "        self.rotor3 = Rotor(rotor_type_3)\n",
    "        self.reflector = Reflector()\n",
    "        self.plug_board = PlugBoard(plugs, validate_plugs)\n",
    "       \n",
    "    def enigmify(self,text):\n",
    "        text = text.upper()\n",
    "        enigmified_text = \"\"\n",
    "        for letter in text:\n",
    "            letter = ord(letter)-65\n",
    "            if(letter<0 or letter>25):\n",
    "                raise ValueError(\"Bad symbol\")\n",
    "            letter = self.plug_board.run(letter)\n",
    "            letter = self.run_rotors(letter)\n",
    "            letter = self.plug_board.run(letter)\n",
    "            enigmified_text = enigmified_text+chr(letter+65)\n",
    "            self.move_rotors()\n",
    "        return enigmified_text\n",
    "    \n",
    "    def enigmify_letter(self, letter):\n",
    "        letter = self.plug_board.run(letter)\n",
    "        letter = self.run_rotors(letter)\n",
    "        letter = self.plug_board.run(letter)\n",
    "        self.move_rotors()\n",
    "        return letter\n",
    "    def set_rotor_positions(self, pos1, pos2, pos3):\n",
    "        self.rotor1.position = pos1\n",
    "        self.rotor2.position = pos2\n",
    "        self.rotor3.position = pos3\n",
    "    \n",
    "    def run_rotors(self,val):\n",
    "        val = self.rotor1.run(val,forward=True)\n",
    "        val = self.rotor2.run(val,forward=True)\n",
    "        val = self.rotor3.run(val,forward=True)\n",
    "        val = self.reflector.run(val)\n",
    "        val = self.rotor3.run(val,forward=False)\n",
    "        val = self.rotor2.run(val,forward=False)\n",
    "        val = self.rotor1.run(val,forward=False)\n",
    "        return val\n",
    "    \n",
    "    def move_rotors(self):\n",
    "        self.rotor1.position +=1\n",
    "        if(self.rotor1.position>25):\n",
    "            self.rotor1.position = 0\n",
    "            self.rotor2.position +=1\n",
    "            if(self.rotor2.position>25):\n",
    "                self.rotor2.position = 0\n",
    "                self.rotor3.position +=1\n",
    "                if(self.rotor3.position>25):\n",
    "                    self.rotor3.position = 0"
   ]
  },
  {
   "cell_type": "code",
   "execution_count": 241,
   "metadata": {},
   "outputs": [],
   "source": [
    "plugs = PlugBoard.generate_plugs()"
   ]
  },
  {
   "cell_type": "code",
   "execution_count": 242,
   "metadata": {
    "scrolled": true
   },
   "outputs": [],
   "source": [
    "enigma = Enigma(0, 1, 2, plugs, True)"
   ]
  },
  {
   "cell_type": "code",
   "execution_count": 243,
   "metadata": {},
   "outputs": [
    {
     "data": {
      "text/plain": [
       "[0, 1, 2, 3, 4, 5, 6, 7, 8, 10, 11, 13, 14, 17, 18, 19, 20, 21, 22, 24]"
      ]
     },
     "execution_count": 243,
     "metadata": {},
     "output_type": "execute_result"
    }
   ],
   "source": [
    "enigma.plug_board.get_plugged_letters()"
   ]
  },
  {
   "cell_type": "code",
   "execution_count": 228,
   "metadata": {},
   "outputs": [
    {
     "data": {
      "text/plain": [
       "'VIXRSWHDWCODFRPCFOYBCNAAPYKNAVSAWYGCIUUNHVDBRYEHBFTKDUNRFHZMCCLQXOWWPUWHOOVEYGMNIPUEUPSVQFMAYCIGPFVPZZKKRRPAOGLKOLMLTCFSUCLHUUFKCYLWJWSGWLAHPDAUVCBTGSIMCNYZHZZAVMVCFGXMWFYFPRAUQHTUJCJYLVLPXPGTEPYCLRGJIEBDUFKCVNQGQAJOJJDEIPMUVUPMMKPXISVDRKKDEOCUJJZGNYRIPORDXHMHNROQZNVCBVIEGUGRFZPEYZTGEKPYXGBIEWRWOEFJKMZFZDOSAENNLRQHHODJTGDIIYIZFDQSJYVFWOFQZGMKGYAWLCIZGMJAZRYQYVKNVHRTEQSFAGLUAMSZEXRRLJCAFWXDDOCNQRHBFOKLVIPUUNBPWNHDXKOPPGRJHLIAOIZUKEOFZLEDFVOXDXKTVRJAPYKYWMTVA'"
      ]
     },
     "execution_count": 228,
     "metadata": {},
     "output_type": "execute_result"
    }
   ],
   "source": [
    "enigma.set_rotor_positions(0,0,10)\n",
    "enigma.enigmify(\"LOREMIPSUMDOLORSITAMETCONSECTETURADIPISCINGELITCRASNEQUEIPSUMINTERDUMEUCURSUSVELPHARETRABLANDITSAPIENINTEGERELEIFENDSEDELITIMPERDIETVENENATISMORBIVELTORTOREFFICITURTINCIDUNTARCUAUCTORVESTIBULUMDUIQUISQUEPHARETRALACUSDIAMSITAMETALIQUETNUNCSUSCIPITQUISMORBIEUMIVITAEJUSTOEUISMODULLAMCORPERFUSCESCELERISQUENISIVELODIODIGNISSIMFERMENTUMSEDSEMPERVEHICULASEMEUSOLLICITUDINDONECVITAEDIGNISSIMDOLORINMAXIMUSDIGNISSIMLECTUSQUISPORTTITORFUSCEVITAEMISEDURNAMATTISCONVALLIS\")"
   ]
  },
  {
   "cell_type": "code",
   "execution_count": 229,
   "metadata": {},
   "outputs": [
    {
     "data": {
      "text/plain": [
       "'LOREMIPSUMDOLORSITAMETCONSECTETURADIPISCINGELITCRASNEQUEIPSUMINTERDUMEUCURSUSVELPHARETRABLANDITSAPIENINTEGERELEIFENDSEDELITIMPERDIETVENENATISMORBIVELTORTOREFFICITURTINCIDUNTARCUAUCTORVESTIBULUMDUIQUISQUEPHARETRALACUSDIAMSITAMETALIQUETNUNCSUSCIPITQUISMORBIEUMIVITAEJUSTOEUISMODULLAMCORPERFUSCESCELERISQUENISIVELODIODIGNISSIMFERMENTUMSEDSEMPERVEHICULASEMEUSOLLICITUDINDONECVITAEDIGNISSIMDOLORINMAXIMUSDIGNISSIMLECTUSQUISPORTTITORFUSCEVITAEMISEDURNAMATTISCONVALLIS'"
      ]
     },
     "execution_count": 229,
     "metadata": {},
     "output_type": "execute_result"
    }
   ],
   "source": [
    "enigma.set_rotor_positions(0,0,10)\n",
    "enigma.enigmify('VIXRSWHDWCODFRPCFOYBCNAAPYKNAVSAWYGCIUUNHVDBRYEHBFTKDUNRFHZMCCLQXOWWPUWHOOVEYGMNIPUEUPSVQFMAYCIGPFVPZZKKRRPAOGLKOLMLTCFSUCLHUUFKCYLWJWSGWLAHPDAUVCBTGSIMCNYZHZZAVMVCFGXMWFYFPRAUQHTUJCJYLVLPXPGTEPYCLRGJIEBDUFKCVNQGQAJOJJDEIPMUVUPMMKPXISVDRKKDEOCUJJZGNYRIPORDXHMHNROQZNVCBVIEGUGRFZPEYZTGEKPYXGBIEWRWOEFJKMZFZDOSAENNLRQHHODJTGDIIYIZFDQSJYVFWOFQZGMKGYAWLCIZGMJAZRYQYVKNVHRTEQSFAGLUAMSZEXRRLJCAFWXDDOCNQRHBFOKLVIPUUNBPWNHDXKOPPGRJHLIAOIZUKEOFZLEDFVOXDXKTVRJAPYKYWMTVA')"
   ]
  },
  {
   "cell_type": "markdown",
   "metadata": {},
   "source": [
    "Шось тре дєлать\n",
    "\n",
    "Алгорітм, \n",
    "\n",
    "Беремо перші сеттінги роторів\n",
    "\n",
    "Берем слово яке там точно є\n",
    "\n",
    "Підставляємо його по рядку тексту, в поісках можливих позицій(буква не може бути собою)\n",
    "\n",
    "Робимо гіпотезу, які букви на плагбоарді з'єднані\n",
    "\n",
    "Робимо дедукції з гіпотепи #як дєлать дедукції з гіпотези\n",
    "\n",
    "Якшо гіпотеза суперечаща, записуєм суперечності, і робим наступну гіпотезу\n",
    "\n",
    "Якшо всі гіпотези до якоїсь букви суперечащі, значить в нас погані сеттінги роторів\n",
    "\n",
    "Берем наступні сеттінги роторів і повтойряємо з рядку 5\n",
    "\n",
    "Якщо знайшли робочу гіпотезу, записуємо її та всі дедукції\n",
    "\n",
    "Профіт"
   ]
  },
  {
   "cell_type": "code",
   "execution_count": 246,
   "metadata": {
    "scrolled": true
   },
   "outputs": [
    {
     "name": "stdout",
     "output_type": "stream",
     "text": [
      "ROTORS: 0 1 2\n",
      "Testing rotor positions: 0 0 X\n",
      "Possible configuration: rotors 0 1 2 rotor positions 0 0 10\n",
      " plug board {0: 1, 13: 24, 12: 12, 10: 19, 22: 18, 20: 8, 2: 3, 11: 14, 4: 5, 21: 17, 15: 15, 23: 23, 6: 7}\n",
      "Testing rotor positions: 0 1 X\n",
      "Testing rotor positions: 0 2 X\n"
     ]
    },
    {
     "ename": "KeyboardInterrupt",
     "evalue": "",
     "output_type": "error",
     "traceback": [
      "\u001b[0;31m---------------------------------------------------------------------------\u001b[0m",
      "\u001b[0;31mKeyboardInterrupt\u001b[0m                         Traceback (most recent call last)",
      "\u001b[0;32m<ipython-input-246-4a3f6f776d92>\u001b[0m in \u001b[0;36m<module>\u001b[0;34m\u001b[0m\n\u001b[1;32m      1\u001b[0m \u001b[0mcraker\u001b[0m \u001b[0;34m=\u001b[0m \u001b[0mCracker\u001b[0m\u001b[0;34m(\u001b[0m\u001b[0;34m'VIXRSWHDWCODFRPCFOYBCNAAPYKNAVSAWYGCIUUNHVDBRYEHBFTKDUNRFHZMCCLQXOWWPUWHOOVEYGMNIPUEUPSVQFMAYCIGPFVPZZKKRRPAOGLKOLMLTCFSUCLHUUFKCYLWJWSGWLAHPDAUVCBTGSIMCNYZHZZAVMVCFGXMWFYFPRAUQHTUJCJYLVLPXPGTEPYCLRGJIEBDUFKCVNQGQAJOJJDEIPMUVUPMMKPXISVDRKKDEOCUJJZGNYRIPORDXHMHNROQZNVCBVIEGUGRFZPEYZTGEKPYXGBIEWRWOEFJKMZFZDOSAENNLRQHHODJTGDIIYIZFDQSJYVFWOFQZGMKGYAWLCIZGMJAZRYQYVKNVHRTEQSFAGLUAMSZEXRRLJCAFWXDDOCNQRHBFOKLVIPUUNBPWNHDXKOPPGRJHLIAOIZUKEOFZLEDFVOXDXKTVRJAPYKYWMTVA'\u001b[0m\u001b[0;34m,\u001b[0m\u001b[0;34m\"LOREMIPSUMDOLORSITAMET\"\u001b[0m\u001b[0;34m)\u001b[0m\u001b[0;34m\u001b[0m\u001b[0;34m\u001b[0m\u001b[0m\n\u001b[1;32m      2\u001b[0m \u001b[0;34m\u001b[0m\u001b[0m\n\u001b[0;32m----> 3\u001b[0;31m \u001b[0mcraker\u001b[0m\u001b[0;34m.\u001b[0m\u001b[0mcrack\u001b[0m\u001b[0;34m(\u001b[0m\u001b[0;34m)\u001b[0m\u001b[0;34m\u001b[0m\u001b[0;34m\u001b[0m\u001b[0m\n\u001b[0m",
      "\u001b[0;32m<ipython-input-245-3030a4ddab90>\u001b[0m in \u001b[0;36mcrack\u001b[0;34m(self)\u001b[0m\n\u001b[1;32m     73\u001b[0m                                                 \u001b[0mself\u001b[0m\u001b[0;34m.\u001b[0m\u001b[0menigma\u001b[0m\u001b[0;34m.\u001b[0m\u001b[0mmove_rotors\u001b[0m\u001b[0;34m(\u001b[0m\u001b[0;34m)\u001b[0m\u001b[0;34m\u001b[0m\u001b[0;34m\u001b[0m\u001b[0m\n\u001b[1;32m     74\u001b[0m \u001b[0;34m\u001b[0m\u001b[0m\n\u001b[0;32m---> 75\u001b[0;31m                                             \u001b[0;32mif\u001b[0m\u001b[0;34m(\u001b[0m\u001b[0mself\u001b[0m\u001b[0;34m.\u001b[0m\u001b[0mdeduce\u001b[0m\u001b[0;34m(\u001b[0m\u001b[0mworking_position\u001b[0m\u001b[0;34m,\u001b[0m \u001b[0mletter1\u001b[0m\u001b[0;34m,\u001b[0m \u001b[0mletter2\u001b[0m\u001b[0;34m,\u001b[0m\u001b[0mpos1\u001b[0m\u001b[0;34m,\u001b[0m\u001b[0mpos2\u001b[0m\u001b[0;34m,\u001b[0m\u001b[0mpos3\u001b[0m\u001b[0;34m)\u001b[0m\u001b[0;34m)\u001b[0m\u001b[0;34m:\u001b[0m\u001b[0;34m\u001b[0m\u001b[0;34m\u001b[0m\u001b[0m\n\u001b[0m\u001b[1;32m     76\u001b[0m                                                 \u001b[0;32mif\u001b[0m\u001b[0;34m(\u001b[0m\u001b[0mself\u001b[0m\u001b[0;34m.\u001b[0m\u001b[0menigma\u001b[0m\u001b[0;34m.\u001b[0m\u001b[0mplug_board\u001b[0m\u001b[0;34m.\u001b[0m\u001b[0mvalid_plugs\u001b[0m\u001b[0;34m(\u001b[0m\u001b[0;34m)\u001b[0m\u001b[0;34m[\u001b[0m\u001b[0;36m1\u001b[0m\u001b[0;34m]\u001b[0m\u001b[0;34m==\u001b[0m\u001b[0;36m10\u001b[0m\u001b[0;34m)\u001b[0m\u001b[0;34m:\u001b[0m\u001b[0;34m\u001b[0m\u001b[0;34m\u001b[0m\u001b[0m\n\u001b[1;32m     77\u001b[0m                                                     \u001b[0mself\u001b[0m\u001b[0;34m.\u001b[0m\u001b[0menigma\u001b[0m\u001b[0;34m.\u001b[0m\u001b[0mset_rotor_positions\u001b[0m\u001b[0;34m(\u001b[0m\u001b[0mpos1\u001b[0m\u001b[0;34m,\u001b[0m\u001b[0mpos2\u001b[0m\u001b[0;34m,\u001b[0m\u001b[0mpos3\u001b[0m\u001b[0;34m)\u001b[0m\u001b[0;34m\u001b[0m\u001b[0;34m\u001b[0m\u001b[0m\n",
      "\u001b[0;32m<ipython-input-245-3030a4ddab90>\u001b[0m in \u001b[0;36mdeduce\u001b[0;34m(self, pos, letter1, letter2, pos1, pos2, pos3)\u001b[0m\n\u001b[1;32m     33\u001b[0m                     \u001b[0muse_crib_letter\u001b[0m \u001b[0;34m=\u001b[0m \u001b[0;32mTrue\u001b[0m\u001b[0;34m\u001b[0m\u001b[0;34m\u001b[0m\u001b[0m\n\u001b[1;32m     34\u001b[0m                     \u001b[0;32mif\u001b[0m\u001b[0;34m(\u001b[0m\u001b[0mself\u001b[0m\u001b[0;34m.\u001b[0m\u001b[0mconverted_crib\u001b[0m\u001b[0;34m[\u001b[0m\u001b[0mi\u001b[0m\u001b[0;34m]\u001b[0m \u001b[0;32mnot\u001b[0m \u001b[0;32min\u001b[0m \u001b[0mself\u001b[0m\u001b[0;34m.\u001b[0m\u001b[0menigma\u001b[0m\u001b[0;34m.\u001b[0m\u001b[0mplug_board\u001b[0m\u001b[0;34m.\u001b[0m\u001b[0mget_plugged_letters\u001b[0m\u001b[0;34m(\u001b[0m\u001b[0;34m)\u001b[0m\u001b[0;34m)\u001b[0m\u001b[0;34m:\u001b[0m\u001b[0;34m\u001b[0m\u001b[0;34m\u001b[0m\u001b[0m\n\u001b[0;32m---> 35\u001b[0;31m                         \u001b[0mself\u001b[0m\u001b[0;34m.\u001b[0m\u001b[0menigma\u001b[0m\u001b[0;34m.\u001b[0m\u001b[0mmove_rotors\u001b[0m\u001b[0;34m(\u001b[0m\u001b[0;34m)\u001b[0m\u001b[0;34m\u001b[0m\u001b[0;34m\u001b[0m\u001b[0m\n\u001b[0m\u001b[1;32m     36\u001b[0m                         \u001b[0;32mcontinue\u001b[0m\u001b[0;34m\u001b[0m\u001b[0;34m\u001b[0m\u001b[0m\n\u001b[1;32m     37\u001b[0m \u001b[0;34m\u001b[0m\u001b[0m\n",
      "\u001b[0;31mKeyboardInterrupt\u001b[0m: "
     ]
    }
   ],
   "source": [
    "craker = Cracker('VIXRSWHDWCODFRPCFOYBCNAAPYKNAVSAWYGCIUUNHVDBRYEHBFTKDUNRFHZMCCLQXOWWPUWHOOVEYGMNIPUEUPSVQFMAYCIGPFVPZZKKRRPAOGLKOLMLTCFSUCLHUUFKCYLWJWSGWLAHPDAUVCBTGSIMCNYZHZZAVMVCFGXMWFYFPRAUQHTUJCJYLVLPXPGTEPYCLRGJIEBDUFKCVNQGQAJOJJDEIPMUVUPMMKPXISVDRKKDEOCUJJZGNYRIPORDXHMHNROQZNVCBVIEGUGRFZPEYZTGEKPYXGBIEWRWOEFJKMZFZDOSAENNLRQHHODJTGDIIYIZFDQSJYVFWOFQZGMKGYAWLCIZGMJAZRYQYVKNVHRTEQSFAGLUAMSZEXRRLJCAFWXDDOCNQRHBFOKLVIPUUNBPWNHDXKOPPGRJHLIAOIZUKEOFZLEDFVOXDXKTVRJAPYKYWMTVA',\"LOREMIPSUMDOLORSITAMET\")\n",
    "\n",
    "craker.crack()"
   ]
  },
  {
   "cell_type": "code",
   "execution_count": 245,
   "metadata": {},
   "outputs": [],
   "source": [
    "class Cracker():\n",
    "    def check_crib(self, pos):\n",
    "        #check whether crib can fit to message at given position\n",
    "        for i in range(len(self.crib)):\n",
    "            if(self.crib[i] == self.msg[pos+i]):\n",
    "                return False\n",
    "        return True\n",
    "    \n",
    "    def __init__(self, msg, crib):       \n",
    "        self.msg = msg\n",
    "        self.converted_msg = [ord(char)-65 for char in msg]\n",
    "        self.crib = crib\n",
    "        self.converted_crib = [ord(char)-65 for char in crib]\n",
    "        self.working_positions = []\n",
    "        for pos in range(len(msg)-len(crib)+1):\n",
    "            if(self.check_crib(pos)):\n",
    "                self.working_positions.append(pos)\n",
    "        self.enigma = Enigma(0,1,2,{}, False)\n",
    "        \n",
    "    def deduce(self, pos, letter1, letter2,pos1,pos2,pos3):\n",
    "        #set default plugs on current iteration\n",
    "        self.enigma.plug_board.plugs = {letter1:letter2}\n",
    "        self.enigma.plug_board.inv_plugs = {letter2: letter1}\n",
    "        \n",
    "        for _ in range(26):\n",
    "            #set tested rotor positions for deduction iteration\n",
    "            self.enigma.set_rotor_positions(pos1,pos2,pos3)\n",
    "            \n",
    "            for i in range(len(self.crib)):\n",
    "                #check whether a letter is deducable\n",
    "                use_crib_letter = False\n",
    "                if(self.converted_msg[pos+i] not in self.enigma.plug_board.get_plugged_letters()):\n",
    "                    use_crib_letter = True\n",
    "                    if(self.converted_crib[i] not in self.enigma.plug_board.get_plugged_letters()):\n",
    "                        self.enigma.move_rotors()\n",
    "                        continue\n",
    "\n",
    "                #make a deduction\n",
    "                letter = self.enigma.enigmify_letter(self.converted_crib[i] if use_crib_letter else self.converted_msg[pos+i])\n",
    "                if(letter not in self.enigma.plug_board.get_plugged_letters()):\n",
    "                    self.enigma.plug_board.plugs[letter] = self.converted_msg[pos+i] if use_crib_letter else self.converted_crib[i]\n",
    "                    self.enigma.plug_board.inv_plugs[self.converted_msg[pos+i] if use_crib_letter else self.converted_crib[i]] = letter\n",
    "                #exit condition: either plugboard is invalid or complete\n",
    "                if(not self.enigma.plug_board.valid_plugs()[0] or self.enigma.plug_board.valid_plugs()[1]==10):\n",
    "                    break\n",
    "\n",
    "        return self.enigma.plug_board.valid_plugs()[0]\n",
    "    \n",
    "    def crack(self):\n",
    "        for rotor1 in range(5):\n",
    "            for rotor2 in range(5):\n",
    "                if(rotor2==rotor1):continue\n",
    "                for rotor3 in range(5):\n",
    "                    if(rotor3==rotor2 or rotor3==rotor1):continue\n",
    "                    self.enigma = Enigma(rotor1,rotor2,rotor3,{},False)\n",
    "                    print(\"ROTORS: {} {} {}\".format(rotor1,rotor2,rotor3))\n",
    "                    for working_position in self.working_positions:\n",
    "                        for pos1 in range(26):\n",
    "                            for pos2 in range(26):\n",
    "                                print(\"Testing rotor positions: {} {} X\".format(pos1,pos2))\n",
    "                                for pos3 in range(26):\n",
    "\n",
    "                                    letter_ban = []\n",
    "\n",
    "                                    for letter1 in range(26):\n",
    "                                        for letter2 in range(26):\n",
    "\n",
    "                                            if((letter1,letter2) in letter_ban or (letter2,letter1) in letter_ban):\n",
    "                                                continue\n",
    "\n",
    "                                            self.enigma.set_rotor_positions(pos1,pos2,pos3)\n",
    "                                            for _ in range(working_position):\n",
    "                                                self.enigma.move_rotors()\n",
    "\n",
    "                                            if(self.deduce(working_position, letter1, letter2,pos1,pos2,pos3)):                          \n",
    "                                                if(self.enigma.plug_board.valid_plugs()[1]==10):\n",
    "                                                    self.enigma.set_rotor_positions(pos1,pos2,pos3)\n",
    "                                                    decoded_msg = self.enigma.enigmify(self.msg)\n",
    "                                                    \n",
    "                                                    if(self.crib in decoded_msg):\n",
    "                                                        print(\"Possible configuration: rotors {} {} {} rotor positions {} {} {}\\n plug board {}\".format(rotor1,rotor2,rotor3,pos1,pos2,pos3,self.enigma.plug_board.plugs))\n",
    "\n",
    "                                            letter_ban.extend(self.enigma.plug_board.plugs.items())\n",
    "                                            letter_ban.extend(self.enigma.plug_board.inv_plugs.items())\n"
   ]
  }
 ],
 "metadata": {
  "kernelspec": {
   "display_name": "Python 3",
   "language": "python",
   "name": "python3"
  },
  "language_info": {
   "codemirror_mode": {
    "name": "ipython",
    "version": 3
   },
   "file_extension": ".py",
   "mimetype": "text/x-python",
   "name": "python",
   "nbconvert_exporter": "python",
   "pygments_lexer": "ipython3",
   "version": "3.7.1"
  }
 },
 "nbformat": 4,
 "nbformat_minor": 2
}
